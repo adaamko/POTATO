{
 "cells": [
  {
   "cell_type": "markdown",
   "metadata": {},
   "source": [
    "## Read and explore data\n",
    "\n",
    "We'll start off with reading and doing some basic data processing. We'll assume that:\n",
    "* you've downloaded the data from http://www.eraserbenchmark.com/ and have unpacked it to a directory called `data`\n",
    "* you're running the kernel in the root of the `eraserbenchmark` repo\n",
    "\n",
    "We're going to work with the movies dataset as it's the smallest and easiest to get started with. All the data is stored in either plain text, or jsonl, and should be pre-tokenized and ready to go!"
   ]
  },
  {
   "cell_type": "code",
   "execution_count": 1,
   "metadata": {},
   "outputs": [],
   "source": [
    "import os\n",
    "from rationale_benchmark.utils import load_documents, load_datasets, annotations_from_jsonl, Annotation\n",
    "\n",
    "data_root = os.path.join('data', 'movies')\n",
    "documents = load_documents(data_root)\n",
    "val = annotations_from_jsonl(os.path.join(data_root, 'val.jsonl'))\n",
    "## Or load everything:\n",
    "train, val, test = load_datasets(data_root)"
   ]
  },
  {
   "cell_type": "code",
   "execution_count": 2,
   "metadata": {},
   "outputs": [
    {
     "name": "stdout",
     "output_type": "stream",
     "text": [
      "<class 'rationale_benchmark.utils.Annotation'>\n",
      "What is the sentiment of this review?\n",
      "NEG\n",
      "16\n"
     ]
    }
   ],
   "source": [
    "ann = train[0]\n",
    "evidences = ann.all_evidences()\n",
    "print(type(ann))\n",
    "print(ann.query)\n",
    "print(ann.classification)\n",
    "print(len(evidences))"
   ]
  },
  {
   "cell_type": "markdown",
   "metadata": {},
   "source": [
    "So we have a review with a negative sentiment, and 16 evidence statements. Let's take a look."
   ]
  },
  {
   "cell_type": "code",
   "execution_count": 3,
   "metadata": {},
   "outputs": [
    {
     "name": "stdout",
     "output_type": "stream",
     "text": [
      "the sad part is\n",
      "what 's the deal ?\n",
      "not really\n",
      "just did n't snag this one correctly\n",
      "it does n't entertain , it 's confusing , it rarely excites\n",
      "have no idea what 's going on\n",
      "do we really need to see it over and over again ?\n",
      "skip it !\n",
      "pretty redundant\n",
      "the film does n't stick\n",
      "it 's simply too jumbled\n",
      "i get kind of fed up after a while\n",
      "downshifts into this \" fantasy \" world\n",
      "executed it terribly\n",
      "a very bad package\n",
      "mind - fuck movie\n"
     ]
    }
   ],
   "source": [
    "for ev in evidences:\n",
    "    print(ev.text)"
   ]
  },
  {
   "cell_type": "markdown",
   "metadata": {},
   "source": [
    "Let's get all the documents, and a take a look at the contents"
   ]
  },
  {
   "cell_type": "code",
   "execution_count": 4,
   "metadata": {},
   "outputs": [
    {
     "name": "stdout",
     "output_type": "stream",
     "text": [
      "44\n",
      "plot : two teen couples go to a church party , drink and then drive .\n",
      "they get into an accident .\n",
      "one of the guys dies , but his girlfriend continues to see him in her life , and has nightmares .\n",
      "what 's the deal ?\n",
      "watch the movie and \" sorta \" find out . . .\n",
      "critique : a mind - fuck movie for the teen generation that touches on a very cool idea , but presents it in a very bad package .\n",
      "which is what makes this review an even harder one to write , since i generally applaud films which attempt to break the mold , mess with your head and such ( lost highway & memento ) , but there are good and bad ways of making all types of films , and these folks just did n't snag this one correctly\n",
      ".\n",
      "they seem to have taken this pretty neat concept , but executed it terribly .\n",
      "so what are the problems with the movie ?\n",
      "well , its main problem is that it 's simply too jumbled\n",
      ".\n",
      "it starts off \" normal \" but then downshifts into this \" fantasy \" world in which you , as an audience member ,\n",
      "have no idea what 's going on\n",
      ".\n",
      "there are dreams , there are characters coming back from the dead , there are others who look like the dead , there are strange apparitions , there are disappearances , there are a looooot of chase scenes , there are tons of weird things that happen , and most of it is simply not explained .\n",
      "now i personally do n't mind trying to unravel a film every now and then , but when all it does is give me the same clue over and over again , i get kind of fed up after a while , which is this film 's biggest problem .\n",
      "it 's obviously got this big secret to hide , but it seems to want to hide it completely until its final five minutes .\n",
      "and do they make things entertaining , thrilling or even engaging , in the meantime ?\n",
      "not really .\n",
      "the sad part is that the arrow and i both dig on flicks like this , so we actually figured most of it out by the half - way point , so all of the strangeness after that did start to make a little bit of sense , but it still did n't the make the film all that more entertaining .\n",
      "i guess the bottom line with movies like this is that you should always make sure that the audience is \" into it \" even before they are given the secret password to enter your world of understanding .\n",
      "i mean , showing melissa sagemiller running away from visions for about 20 minutes throughout the movie is just plain lazy ! !\n",
      "okay , we get it .\n",
      ". .\n",
      "there are people chasing her and we do n't know who they are .\n",
      "do we really need to see it over and over again ?\n",
      "how about giving us different scenes offering further insight into all of the strangeness going down in the movie ?\n",
      "apparently , the studio took this film away from its director and chopped it up themselves , and it shows .\n",
      "there might 've been a pretty decent teen mind - fuck movie in here somewhere , but i guess \" the suits \" decided that turning it into a music video with little edge , would make more sense .\n",
      "the actors are pretty good for the most part , although wes bentley just seemed to be playing the exact same character that he did in american beauty , only in a new neighborhood .\n",
      "but my biggest kudos go out to sagemiller , who holds her own throughout the entire film , and actually has you feeling her character 's unraveling .\n",
      "overall , the film does n't stick\n",
      "because it does n't entertain , it 's confusing , it rarely excites and\n",
      "it feels pretty redundant for most of its runtime , despite a pretty cool ending and explanation to all of the craziness that came before it .\n",
      "oh ,\n",
      "and by the way , this is not a horror or teen slasher flick . . .\n",
      "it 's just packaged to look that way because someone is apparently assuming that the genre is still hot with the kids .\n",
      "it also wrapped production two years ago and has been sitting on the shelves ever since .\n",
      "whatever . .\n",
      ". skip it !\n",
      "where 's joblo coming from ?\n",
      "a nightmare of elm street 3 ( 7/10 ) - blair witch 2 ( 7/10 ) - the crow ( 9/10 ) - the crow : salvation ( 4/10 )\n",
      "- lost highway ( 10/10 ) - memento ( 10/10 ) - the others ( 9/10 ) - stir of echoes ( 8/10 )\n"
     ]
    }
   ],
   "source": [
    "(docid,) = set(ev.docid for ev in evidences)\n",
    "doc = documents[docid]\n",
    "print(len(doc))\n",
    "for sent in doc:\n",
    "    print(' '.join(sent))"
   ]
  },
  {
   "cell_type": "markdown",
   "metadata": {},
   "source": [
    "Now let's take a look at where in the document these start appearing:"
   ]
  },
  {
   "cell_type": "code",
   "execution_count": 5,
   "metadata": {},
   "outputs": [
    {
     "name": "stdout",
     "output_type": "stream",
     "text": [
      "the sad part is\n",
      "the sad part is\n",
      "what 's the deal ?\n",
      "what 's the deal ?\n",
      "not really\n",
      "not really\n",
      "just did n't snag this one correctly\n",
      "just did n't snag this one correctly\n",
      "it does n't entertain , it 's confusing , it rarely excites\n",
      "it does n't entertain , it 's confusing , it rarely excites\n",
      "have no idea what 's going on\n",
      "have no idea what 's going on\n",
      "do we really need to see it over and over again ?\n",
      "do we really need to see it over and over again ?\n",
      "skip it !\n",
      "skip it !\n",
      "pretty redundant\n",
      "pretty redundant\n",
      "the film does n't stick\n",
      "the film does n't stick\n",
      "it 's simply too jumbled\n",
      "it 's simply too jumbled\n",
      "i get kind of fed up after a while\n",
      "i get kind of fed up after a while\n",
      "downshifts into this \" fantasy \" world\n",
      "downshifts into this \" fantasy \" world\n",
      "executed it terribly\n",
      "executed it terribly\n",
      "a very bad package\n",
      "a very bad package\n",
      "mind - fuck movie\n",
      "mind - fuck movie\n"
     ]
    }
   ],
   "source": [
    "import itertools\n",
    "flattened_doc = list(itertools.chain.from_iterable(doc))\n",
    "for ev in evidences:\n",
    "    # saved text\n",
    "    print(ev.text)\n",
    "    # offset text\n",
    "    print(' '.join(flattened_doc[ev.start_token:ev.end_token]))"
   ]
  },
  {
   "cell_type": "markdown",
   "metadata": {},
   "source": [
    "### Count rationale tokens, tokens, sentences"
   ]
  },
  {
   "cell_type": "code",
   "execution_count": 6,
   "metadata": {},
   "outputs": [
    {
     "name": "stdout",
     "output_type": "stream",
     "text": [
      "evidences 8.679174484052533\n",
      "document_sentences 36.78924327704816\n",
      "document_tokens 773.5622263914947\n",
      "rationale_tokens 66.83989993746091\n",
      "rationale_token_fraction 0.09350348753236702\n"
     ]
    }
   ],
   "source": [
    "import numpy as np\n",
    "\n",
    "def process_annotation(ann: Annotation, docs: dict) -> dict:\n",
    "    evidences = ann.all_evidences()\n",
    "    if len(evidences) == 0:\n",
    "        return {}\n",
    "    (docid,) = set(ev.docid for ev in evidences)\n",
    "    doc = docs[docid]\n",
    "    sentences = len(doc)\n",
    "    tokens = sum(len(s) for s in doc)\n",
    "    # this accumulation will take care of any potentially overlapping evidence statements.\n",
    "    # there should be none in the data, but getting familiar with the idea of how to do this is potentially useful\n",
    "    rationale_tokens = len(set(itertools.chain.from_iterable(range(ev.start_token, ev.end_token) for ev in evidences)))\n",
    "    return {\n",
    "        'class': ann.classification,\n",
    "        'evidences': len(evidences),\n",
    "        'document_sentences': sentences,\n",
    "        'document_tokens': tokens,\n",
    "        'rationale_tokens': rationale_tokens,\n",
    "        'rationale_token_fraction': rationale_tokens / tokens\n",
    "    }\n",
    "\n",
    "def average(counts, key) -> float:\n",
    "    ns = [c[key] for c in counts]\n",
    "    return np.mean(ns)\n",
    "\n",
    "# this filter skips an empty document \n",
    "annotation_counts = list(filter(lambda x: len(x) > 0, (process_annotation(ann, documents) for ann in train)))\n",
    "for key in ['evidences', 'document_sentences', 'document_tokens', 'rationale_tokens', 'rationale_token_fraction']:\n",
    "    print(key, average(annotation_counts, key))"
   ]
  }
 ],
 "metadata": {
  "kernelspec": {
   "display_name": "Python 3",
   "language": "python",
   "name": "python3"
  },
  "language_info": {
   "codemirror_mode": {
    "name": "ipython",
    "version": 3
   },
   "file_extension": ".py",
   "mimetype": "text/x-python",
   "name": "python",
   "nbconvert_exporter": "python",
   "pygments_lexer": "ipython3",
   "version": "3.7.4"
  }
 },
 "nbformat": 4,
 "nbformat_minor": 2
}
